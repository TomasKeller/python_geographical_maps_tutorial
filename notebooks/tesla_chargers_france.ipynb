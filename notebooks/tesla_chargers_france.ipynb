{
 "cells": [
  {
   "cell_type": "code",
   "execution_count": null,
   "metadata": {},
   "outputs": [],
   "source": [
    "# https://github.com/Dhrumilcse/Tesla-Superchargers"
   ]
  },
  {
   "cell_type": "code",
   "execution_count": 2,
   "metadata": {},
   "outputs": [],
   "source": [
    "#Import Library\n",
    "import folium\n",
    "import pandas as pd\n",
    "from folium.plugins import MarkerCluster\n",
    "\n",
    "#Load Data\n",
    "data = pd.read_excel(\"../data/tesla-supercharger-france.xlsx\")\n",
    "latitude = data['Ylatitude']\n",
    "longitude = data['Xlongitude']\n",
    "station = data['n_station']\n",
    "\n",
    "#Create base map\n",
    "map = folium.Map(location=[47.85183, 3.542802], zoom_start = 6, tiles = \"cartodbpositron\")\n",
    "marker_cluster = MarkerCluster().add_to(map)\n",
    "\n",
    "\n",
    "#Plot Marker with custom Icon and Marker Cluster\n",
    "for latitude, longitude, station in zip(latitude, longitude, station):\n",
    "    icon_path = \"../data/tesla-iconn.png\"\n",
    "    icon = folium.features.CustomIcon(icon_image=icon_path ,icon_size=(30,30))\n",
    "    folium.Marker(location=[latitude, longitude], popup=str(station), icon = icon).add_to(marker_cluster)\n",
    "\n",
    "#Save the map\n",
    "map.save(\"../map/tesla-map.html\")"
   ]
  },
  {
   "cell_type": "code",
   "execution_count": null,
   "metadata": {},
   "outputs": [],
   "source": []
  }
 ],
 "metadata": {
  "kernelspec": {
   "display_name": "Python 3",
   "language": "python",
   "name": "python3"
  },
  "language_info": {
   "codemirror_mode": {
    "name": "ipython",
    "version": 3
   },
   "file_extension": ".py",
   "mimetype": "text/x-python",
   "name": "python",
   "nbconvert_exporter": "python",
   "pygments_lexer": "ipython3",
   "version": "3.6.10"
  }
 },
 "nbformat": 4,
 "nbformat_minor": 4
}

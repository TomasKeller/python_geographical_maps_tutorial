{
 "cells": [
  {
   "cell_type": "code",
   "execution_count": 1,
   "metadata": {},
   "outputs": [],
   "source": [
    "# https://towardsdatascience.com/interactive-geospatial-data-visualization-with-geoviews-in-python-7d5335c8efd1"
   ]
  },
  {
   "cell_type": "code",
   "execution_count": 7,
   "metadata": {},
   "outputs": [
    {
     "ename": "ModuleNotFoundError",
     "evalue": "No module named 'geoviews'",
     "output_type": "error",
     "traceback": [
      "\u001b[0;31m---------------------------------------------------------------------------\u001b[0m",
      "\u001b[0;31mModuleNotFoundError\u001b[0m                       Traceback (most recent call last)",
      "\u001b[0;32m<ipython-input-7-6c7eec1d1e13>\u001b[0m in \u001b[0;36m<module>\u001b[0;34m\u001b[0m\n\u001b[1;32m      1\u001b[0m \u001b[0;32mimport\u001b[0m \u001b[0mpandas\u001b[0m \u001b[0;32mas\u001b[0m \u001b[0mpd\u001b[0m\u001b[0;34m\u001b[0m\u001b[0;34m\u001b[0m\u001b[0m\n\u001b[1;32m      2\u001b[0m \u001b[0;32mimport\u001b[0m \u001b[0mgeopandas\u001b[0m \u001b[0;32mas\u001b[0m \u001b[0mgpd\u001b[0m\u001b[0;34m\u001b[0m\u001b[0;34m\u001b[0m\u001b[0m\n\u001b[0;32m----> 3\u001b[0;31m \u001b[0;32mimport\u001b[0m \u001b[0mgeoviews\u001b[0m \u001b[0;32mas\u001b[0m \u001b[0mgv\u001b[0m\u001b[0;34m\u001b[0m\u001b[0;34m\u001b[0m\u001b[0m\n\u001b[0m\u001b[1;32m      4\u001b[0m \u001b[0;32mimport\u001b[0m \u001b[0mgeoviews\u001b[0m\u001b[0;34m.\u001b[0m\u001b[0mfeature\u001b[0m \u001b[0;32mas\u001b[0m \u001b[0mgf\u001b[0m\u001b[0;34m\u001b[0m\u001b[0;34m\u001b[0m\u001b[0m\n\u001b[1;32m      5\u001b[0m \u001b[0;32mfrom\u001b[0m \u001b[0mgeoviews\u001b[0m \u001b[0;32mimport\u001b[0m \u001b[0mopts\u001b[0m\u001b[0;34m\u001b[0m\u001b[0;34m\u001b[0m\u001b[0m\n",
      "\u001b[0;31mModuleNotFoundError\u001b[0m: No module named 'geoviews'"
     ]
    }
   ],
   "source": [
    "import pandas as pd\n",
    "import geopandas as gpd\n",
    "import geoviews as gv\n",
    "import geoviews.feature as gf\n",
    "from geoviews import opts\n",
    "from cartopy import crs \n",
    "import geoviews.tile_sources as gts\n",
    "gv.extension('bokeh', 'matplotlib')"
   ]
  },
  {
   "cell_type": "code",
   "execution_count": 9,
   "metadata": {},
   "outputs": [
    {
     "name": "stdout",
     "output_type": "stream",
     "text": [
      "Collecting geoviews\n",
      "  Using cached geoviews-1.8.1-py2.py3-none-any.whl (500 kB)\n",
      "Collecting cartopy>=0.17.0\n",
      "  Using cached Cartopy-0.18.0.tar.gz (14.4 MB)\n",
      "\u001b[31m    ERROR: Command errored out with exit status 1:\n",
      "     command: /Users/tomas/miniconda3/envs/py36/bin/python -c 'import sys, setuptools, tokenize; sys.argv[0] = '\"'\"'/private/var/folders/t2/d3_r66vx0k15vs8sc2phg46c0000gn/T/pip-install-mlg9fhbb/cartopy/setup.py'\"'\"'; __file__='\"'\"'/private/var/folders/t2/d3_r66vx0k15vs8sc2phg46c0000gn/T/pip-install-mlg9fhbb/cartopy/setup.py'\"'\"';f=getattr(tokenize, '\"'\"'open'\"'\"', open)(__file__);code=f.read().replace('\"'\"'\\r\\n'\"'\"', '\"'\"'\\n'\"'\"');f.close();exec(compile(code, __file__, '\"'\"'exec'\"'\"'))' egg_info --egg-base /private/var/folders/t2/d3_r66vx0k15vs8sc2phg46c0000gn/T/pip-install-mlg9fhbb/cartopy/pip-egg-info\n",
      "         cwd: /private/var/folders/t2/d3_r66vx0k15vs8sc2phg46c0000gn/T/pip-install-mlg9fhbb/cartopy/\n",
      "    Complete output (5 lines):\n",
      "    /private/var/folders/t2/d3_r66vx0k15vs8sc2phg46c0000gn/T/pip-install-mlg9fhbb/cartopy/setup.py:107: UserWarning: Unable to determine GEOS version. Ensure you have 3.3.3 or later installed, or installation may fail.\n",
      "      '.'.join(str(v) for v in GEOS_MIN_VERSION), ))\n",
      "    /private/var/folders/t2/d3_r66vx0k15vs8sc2phg46c0000gn/T/pip-install-mlg9fhbb/cartopy/setup.py:160: UserWarning: Unable to determine Proj version. Ensure you have 4.9.0 or later installed, or installation may fail.\n",
      "      '.'.join(str(v) for v in PROJ_MIN_VERSION), ))\n",
      "    Proj version 0.0.0 is installed, but cartopy requires at least version 4.9.0.\n",
      "    ----------------------------------------\u001b[0m\n",
      "\u001b[31mERROR: Command errored out with exit status 1: python setup.py egg_info Check the logs for full command output.\u001b[0m\n"
     ]
    }
   ],
   "source": [
    "! pip install geoviews"
   ]
  },
  {
   "cell_type": "code",
   "execution_count": 8,
   "metadata": {},
   "outputs": [
    {
     "name": "stdout",
     "output_type": "stream",
     "text": [
      "Requirement already up-to-date: Proj in /Users/tomas/miniconda3/envs/py36/lib/python3.6/site-packages (0.2.0)\n",
      "Requirement already satisfied, skipping upgrade: click>=7.1.2 in /Users/tomas/miniconda3/envs/py36/lib/python3.6/site-packages (from Proj) (7.1.2)\n",
      "Requirement already satisfied, skipping upgrade: arrow>=0.15.6 in /Users/tomas/miniconda3/envs/py36/lib/python3.6/site-packages (from Proj) (0.17.0)\n",
      "Requirement already satisfied, skipping upgrade: python-dateutil>=2.7.0 in /Users/tomas/miniconda3/envs/py36/lib/python3.6/site-packages (from arrow>=0.15.6->Proj) (2.8.1)\n",
      "Requirement already satisfied, skipping upgrade: six>=1.5 in /Users/tomas/miniconda3/envs/py36/lib/python3.6/site-packages (from python-dateutil>=2.7.0->arrow>=0.15.6->Proj) (1.12.0)\n"
     ]
    }
   ],
   "source": [
    "!pip install --upgrade Proj"
   ]
  },
  {
   "cell_type": "code",
   "execution_count": null,
   "metadata": {},
   "outputs": [],
   "source": []
  }
 ],
 "metadata": {
  "kernelspec": {
   "display_name": "Python 3",
   "language": "python",
   "name": "python3"
  },
  "language_info": {
   "codemirror_mode": {
    "name": "ipython",
    "version": 3
   },
   "file_extension": ".py",
   "mimetype": "text/x-python",
   "name": "python",
   "nbconvert_exporter": "python",
   "pygments_lexer": "ipython3",
   "version": "3.6.10"
  }
 },
 "nbformat": 4,
 "nbformat_minor": 4
}

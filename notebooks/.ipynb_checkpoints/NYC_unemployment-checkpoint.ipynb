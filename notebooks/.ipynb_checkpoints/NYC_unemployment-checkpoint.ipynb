{
 "cells": [
  {
   "cell_type": "code",
   "execution_count": null,
   "metadata": {},
   "outputs": [],
   "source": [
    "# https://medium.com/analytics-vidhya/create-and-visualize-choropleth-map-with-folium-269d3fd12fa0"
   ]
  },
  {
   "cell_type": "code",
   "execution_count": 1,
   "metadata": {},
   "outputs": [
    {
     "data": {
      "text/html": [
       "<div style=\"width:100%;\"><div style=\"position:relative;width:100%;height:0;padding-bottom:60%;\"><span style=\"color:#565656\">Make this Notebook Trusted to load map: File -> Trust Notebook</span><iframe src=\"about:blank\" style=\"position:absolute;width:100%;height:100%;left:0;top:0;border:none !important;\" data-html=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 onload=\"this.contentDocument.open();this.contentDocument.write(atob(this.getAttribute('data-html')));this.contentDocument.close();\" allowfullscreen webkitallowfullscreen mozallowfullscreen></iframe></div></div>"
      ],
      "text/plain": [
       "<folium.folium.Map at 0x7f9791f11b38>"
      ]
     },
     "execution_count": 1,
     "metadata": {},
     "output_type": "execute_result"
    }
   ],
   "source": [
    "import folium\n",
    "new_york = folium.Map(location=[40.7128,-73.9352])\n",
    "new_york"
   ]
  },
  {
   "cell_type": "markdown",
   "metadata": {},
   "source": [
    "The list contains [latitude, longitude], and these values have to be in decimal degrees. \n",
    "\n",
    "You can use this website to get latitude and longitudes of places.\n",
    "https://www.gps-coordinates.net/"
   ]
  },
  {
   "cell_type": "code",
   "execution_count": 2,
   "metadata": {},
   "outputs": [
    {
     "data": {
      "text/plain": [
       "\u001b[0;31mInit signature:\u001b[0m\n",
       "\u001b[0mfolium\u001b[0m\u001b[0;34m.\u001b[0m\u001b[0mMap\u001b[0m\u001b[0;34m(\u001b[0m\u001b[0;34m\u001b[0m\n",
       "\u001b[0;34m\u001b[0m    \u001b[0mlocation\u001b[0m\u001b[0;34m=\u001b[0m\u001b[0;32mNone\u001b[0m\u001b[0;34m,\u001b[0m\u001b[0;34m\u001b[0m\n",
       "\u001b[0;34m\u001b[0m    \u001b[0mwidth\u001b[0m\u001b[0;34m=\u001b[0m\u001b[0;34m'100%'\u001b[0m\u001b[0;34m,\u001b[0m\u001b[0;34m\u001b[0m\n",
       "\u001b[0;34m\u001b[0m    \u001b[0mheight\u001b[0m\u001b[0;34m=\u001b[0m\u001b[0;34m'100%'\u001b[0m\u001b[0;34m,\u001b[0m\u001b[0;34m\u001b[0m\n",
       "\u001b[0;34m\u001b[0m    \u001b[0mleft\u001b[0m\u001b[0;34m=\u001b[0m\u001b[0;34m'0%'\u001b[0m\u001b[0;34m,\u001b[0m\u001b[0;34m\u001b[0m\n",
       "\u001b[0;34m\u001b[0m    \u001b[0mtop\u001b[0m\u001b[0;34m=\u001b[0m\u001b[0;34m'0%'\u001b[0m\u001b[0;34m,\u001b[0m\u001b[0;34m\u001b[0m\n",
       "\u001b[0;34m\u001b[0m    \u001b[0mposition\u001b[0m\u001b[0;34m=\u001b[0m\u001b[0;34m'relative'\u001b[0m\u001b[0;34m,\u001b[0m\u001b[0;34m\u001b[0m\n",
       "\u001b[0;34m\u001b[0m    \u001b[0mtiles\u001b[0m\u001b[0;34m=\u001b[0m\u001b[0;34m'OpenStreetMap'\u001b[0m\u001b[0;34m,\u001b[0m\u001b[0;34m\u001b[0m\n",
       "\u001b[0;34m\u001b[0m    \u001b[0mattr\u001b[0m\u001b[0;34m=\u001b[0m\u001b[0;32mNone\u001b[0m\u001b[0;34m,\u001b[0m\u001b[0;34m\u001b[0m\n",
       "\u001b[0;34m\u001b[0m    \u001b[0mmin_zoom\u001b[0m\u001b[0;34m=\u001b[0m\u001b[0;36m0\u001b[0m\u001b[0;34m,\u001b[0m\u001b[0;34m\u001b[0m\n",
       "\u001b[0;34m\u001b[0m    \u001b[0mmax_zoom\u001b[0m\u001b[0;34m=\u001b[0m\u001b[0;36m18\u001b[0m\u001b[0;34m,\u001b[0m\u001b[0;34m\u001b[0m\n",
       "\u001b[0;34m\u001b[0m    \u001b[0mzoom_start\u001b[0m\u001b[0;34m=\u001b[0m\u001b[0;36m10\u001b[0m\u001b[0;34m,\u001b[0m\u001b[0;34m\u001b[0m\n",
       "\u001b[0;34m\u001b[0m    \u001b[0mmin_lat\u001b[0m\u001b[0;34m=\u001b[0m\u001b[0;34m-\u001b[0m\u001b[0;36m90\u001b[0m\u001b[0;34m,\u001b[0m\u001b[0;34m\u001b[0m\n",
       "\u001b[0;34m\u001b[0m    \u001b[0mmax_lat\u001b[0m\u001b[0;34m=\u001b[0m\u001b[0;36m90\u001b[0m\u001b[0;34m,\u001b[0m\u001b[0;34m\u001b[0m\n",
       "\u001b[0;34m\u001b[0m    \u001b[0mmin_lon\u001b[0m\u001b[0;34m=\u001b[0m\u001b[0;34m-\u001b[0m\u001b[0;36m180\u001b[0m\u001b[0;34m,\u001b[0m\u001b[0;34m\u001b[0m\n",
       "\u001b[0;34m\u001b[0m    \u001b[0mmax_lon\u001b[0m\u001b[0;34m=\u001b[0m\u001b[0;36m180\u001b[0m\u001b[0;34m,\u001b[0m\u001b[0;34m\u001b[0m\n",
       "\u001b[0;34m\u001b[0m    \u001b[0mmax_bounds\u001b[0m\u001b[0;34m=\u001b[0m\u001b[0;32mFalse\u001b[0m\u001b[0;34m,\u001b[0m\u001b[0;34m\u001b[0m\n",
       "\u001b[0;34m\u001b[0m    \u001b[0mcrs\u001b[0m\u001b[0;34m=\u001b[0m\u001b[0;34m'EPSG3857'\u001b[0m\u001b[0;34m,\u001b[0m\u001b[0;34m\u001b[0m\n",
       "\u001b[0;34m\u001b[0m    \u001b[0mcontrol_scale\u001b[0m\u001b[0;34m=\u001b[0m\u001b[0;32mFalse\u001b[0m\u001b[0;34m,\u001b[0m\u001b[0;34m\u001b[0m\n",
       "\u001b[0;34m\u001b[0m    \u001b[0mprefer_canvas\u001b[0m\u001b[0;34m=\u001b[0m\u001b[0;32mFalse\u001b[0m\u001b[0;34m,\u001b[0m\u001b[0;34m\u001b[0m\n",
       "\u001b[0;34m\u001b[0m    \u001b[0mno_touch\u001b[0m\u001b[0;34m=\u001b[0m\u001b[0;32mFalse\u001b[0m\u001b[0;34m,\u001b[0m\u001b[0;34m\u001b[0m\n",
       "\u001b[0;34m\u001b[0m    \u001b[0mdisable_3d\u001b[0m\u001b[0;34m=\u001b[0m\u001b[0;32mFalse\u001b[0m\u001b[0;34m,\u001b[0m\u001b[0;34m\u001b[0m\n",
       "\u001b[0;34m\u001b[0m    \u001b[0mpng_enabled\u001b[0m\u001b[0;34m=\u001b[0m\u001b[0;32mFalse\u001b[0m\u001b[0;34m,\u001b[0m\u001b[0;34m\u001b[0m\n",
       "\u001b[0;34m\u001b[0m    \u001b[0mzoom_control\u001b[0m\u001b[0;34m=\u001b[0m\u001b[0;32mTrue\u001b[0m\u001b[0;34m,\u001b[0m\u001b[0;34m\u001b[0m\n",
       "\u001b[0;34m\u001b[0m    \u001b[0;34m**\u001b[0m\u001b[0mkwargs\u001b[0m\u001b[0;34m,\u001b[0m\u001b[0;34m\u001b[0m\n",
       "\u001b[0;34m\u001b[0m\u001b[0;34m)\u001b[0m\u001b[0;34m\u001b[0m\u001b[0;34m\u001b[0m\u001b[0m\n",
       "\u001b[0;31mDocstring:\u001b[0m     \n",
       "Create a Map with Folium and Leaflet.js\n",
       "\n",
       "Generate a base map of given width and height with either default\n",
       "tilesets or a custom tileset URL. The following tilesets are built-in\n",
       "to Folium. Pass any of the following to the \"tiles\" keyword:\n",
       "\n",
       "    - \"OpenStreetMap\"\n",
       "    - \"Mapbox Bright\" (Limited levels of zoom for free tiles)\n",
       "    - \"Mapbox Control Room\" (Limited levels of zoom for free tiles)\n",
       "    - \"Stamen\" (Terrain, Toner, and Watercolor)\n",
       "    - \"Cloudmade\" (Must pass API key)\n",
       "    - \"Mapbox\" (Must pass API key)\n",
       "    - \"CartoDB\" (positron and dark_matter)\n",
       "\n",
       "You can pass a custom tileset to Folium by passing a Leaflet-style\n",
       "URL to the tiles parameter: ``http://{s}.yourtiles.com/{z}/{x}/{y}.png``\n",
       "\n",
       "Parameters\n",
       "----------\n",
       "location: tuple or list, default None\n",
       "    Latitude and Longitude of Map (Northing, Easting).\n",
       "width: pixel int or percentage string (default: '100%')\n",
       "    Width of the map.\n",
       "height: pixel int or percentage string (default: '100%')\n",
       "    Height of the map.\n",
       "tiles: str, default 'OpenStreetMap'\n",
       "    Map tileset to use. Can choose from a list of built-in tiles,\n",
       "    pass a custom URL or pass `None` to create a map without tiles.\n",
       "    For more advanced tile layer options, use the `TileLayer` class.\n",
       "min_zoom: int, default 0\n",
       "    Minimum allowed zoom level for the tile layer that is created.\n",
       "max_zoom: int, default 18\n",
       "    Maximum allowed zoom level for the tile layer that is created.\n",
       "zoom_start: int, default 10\n",
       "    Initial zoom level for the map.\n",
       "attr: string, default None\n",
       "    Map tile attribution; only required if passing custom tile URL.\n",
       "crs : str, default 'EPSG3857'\n",
       "    Defines coordinate reference systems for projecting geographical points\n",
       "    into pixel (screen) coordinates and back.\n",
       "    You can use Leaflet's values :\n",
       "    * EPSG3857 : The most common CRS for online maps, used by almost all\n",
       "    free and commercial tile providers. Uses Spherical Mercator projection.\n",
       "    Set in by default in Map's crs option.\n",
       "    * EPSG4326 : A common CRS among GIS enthusiasts.\n",
       "    Uses simple Equirectangular projection.\n",
       "    * EPSG3395 : Rarely used by some commercial tile providers.\n",
       "    Uses Elliptical Mercator projection.\n",
       "    * Simple : A simple CRS that maps longitude and latitude into\n",
       "    x and y directly. May be used for maps of flat surfaces\n",
       "    (e.g. game maps). Note that the y axis should still be inverted\n",
       "    (going from bottom to top).\n",
       "control_scale : bool, default False\n",
       "    Whether to add a control scale on the map.\n",
       "prefer_canvas : bool, default False\n",
       "    Forces Leaflet to use the Canvas back-end (if available) for\n",
       "    vector layers instead of SVG. This can increase performance\n",
       "    considerably in some cases (e.g. many thousands of circle\n",
       "    markers on the map).\n",
       "no_touch : bool, default False\n",
       "    Forces Leaflet to not use touch events even if it detects them.\n",
       "disable_3d : bool, default False\n",
       "    Forces Leaflet to not use hardware-accelerated CSS 3D\n",
       "    transforms for positioning (which may cause glitches in some\n",
       "    rare environments) even if they're supported.\n",
       "zoom_control : bool, default True\n",
       "    Display zoom controls on the map.\n",
       "**kwargs\n",
       "    Additional keyword arguments are passed to Leaflets Map class:\n",
       "    https://leafletjs.com/reference-1.6.0.html#map\n",
       "\n",
       "Returns\n",
       "-------\n",
       "Folium Map Object\n",
       "\n",
       "Examples\n",
       "--------\n",
       ">>> m = folium.Map(location=[45.523, -122.675],\n",
       "...                        width=750, height=500)\n",
       ">>> m = folium.Map(location=[45.523, -122.675],\n",
       "                           tiles='Mapbox Control Room')\n",
       ">>> m = folium.Map(location=(45.523, -122.675), max_zoom=20,\n",
       "                           tiles='Cloudmade', API_key='YourKey')\n",
       ">>> m = folium.Map(\n",
       "...    location=[45.523, -122.675],\n",
       "...    zoom_start=2,\n",
       "...    tiles='http://{s}.tiles.mapbox.com/v3/mapbox.control-room/{z}/{x}/{y}.png',\n",
       "...    attr='Mapbox attribution'\n",
       "...)\n",
       "\u001b[0;31mFile:\u001b[0m           ~/miniconda3/envs/py36/lib/python3.6/site-packages/folium/folium.py\n",
       "\u001b[0;31mType:\u001b[0m           type\n",
       "\u001b[0;31mSubclasses:\u001b[0m     \n"
      ]
     },
     "metadata": {},
     "output_type": "display_data"
    }
   ],
   "source": [
    "# “To find out more about the Map function, just paste the following in the editor”\n",
    "! folium.Map?"
   ]
  },
  {
   "cell_type": "code",
   "execution_count": 4,
   "metadata": {},
   "outputs": [
    {
     "data": {
      "text/html": [
       "<div style=\"width:100%;\"><div style=\"position:relative;width:100%;height:0;padding-bottom:60%;\"><span style=\"color:#565656\">Make this Notebook Trusted to load map: File -> Trust Notebook</span><iframe src=\"about:blank\" style=\"position:absolute;width:100%;height:100%;left:0;top:0;border:none !important;\" data-html=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 onload=\"this.contentDocument.open();this.contentDocument.write(atob(this.getAttribute('data-html')));this.contentDocument.close();\" allowfullscreen webkitallowfullscreen mozallowfullscreen></iframe></div></div>"
      ],
      "text/plain": [
       "<folium.folium.Map at 0x7f9794cdd4e0>"
      ]
     },
     "execution_count": 4,
     "metadata": {},
     "output_type": "execute_result"
    }
   ],
   "source": [
    "new_york = folium.Map(\n",
    "    location=[40.7128,-73.9352],\n",
    "    zoom_start=12,\n",
    "    \n",
    ")\n",
    "folium.Marker([40.74843597, -73.98580932], popup='<i>Empire State Bldg</i>', tooltip=\"Empire State Bldg\").add_to(new_york)\n",
    "folium.Marker([40.767459869,-73.970710754], popup='<b>Central Park</b>').add_to(new_york)\n",
    "folium.Marker([40.75271606,-73.97721862],popup='Grand Central Terminal',icon=folium.Icon(color='red',icon='bus',prefix='fa')).add_to(new_york)\n",
    "folium.Marker([40.713409424, -74.013343811],popup='One World Trade Center',icon=folium.Icon(color='green')).add_to(new_york)\n",
    "new_york"
   ]
  },
  {
   "cell_type": "markdown",
   "metadata": {},
   "source": [
    "If you want more different types of icons, then visit the Font Awesome’s site. \n",
    "\n",
    "To use these icons, use prefix = ‘fa’ in the folium.Icon( ).\n",
    "https://fontawesome.com/v4.7.0/icons/"
   ]
  },
  {
   "cell_type": "code",
   "execution_count": 6,
   "metadata": {},
   "outputs": [],
   "source": [
    "import folium \n",
    "import json\n",
    "import requests\n",
    "import pandas as pd\n",
    "import matplotlib.pyplot as plt\n",
    "import branca \n",
    "import seaborn as sns\n",
    "import numpy as np\n",
    "state_unemp = pd.read_csv(\"../data/state_unemployment.csv\")\n",
    "url = 'https://raw.githubusercontent.com/python-visualization/folium/master/examples/data'\n",
    "state_geo = f'{url}/us-states.json'        #for state level data"
   ]
  },
  {
   "cell_type": "code",
   "execution_count": 37,
   "metadata": {},
   "outputs": [],
   "source": [
    "usa_state = folium.Map(location=[48, -102], zoom_start=3)\n",
    "folium.Choropleth(\n",
    "    geo_data = state_geo,                  #json\n",
    "    name ='choropleth',                  \n",
    "    data = state_unemp,                     \n",
    "    columns = ['state', 'UnemploymentRate'], #columns to work on\n",
    "    key_on ='properties.name',\n",
    "    fill_color ='YlGnBu',     #I passed colors Yellow,Green,Blue\n",
    "    fill_opacity = 0.7,\n",
    "    line_opacity = 0.2,\n",
    "    legend_name = \"Unemployment scale\"\n",
    ").add_to(usa_state)\n",
    "usa_state\n",
    "\n",
    "#Save the map\n",
    "new_york.save(\"../map/usa_state.html\")\n",
    "#more info about the function can be found using folium.Choropleth?"
   ]
  },
  {
   "cell_type": "code",
   "execution_count": 15,
   "metadata": {},
   "outputs": [
    {
     "data": {
      "text/html": [
       "<div>\n",
       "<style scoped>\n",
       "    .dataframe tbody tr th:only-of-type {\n",
       "        vertical-align: middle;\n",
       "    }\n",
       "\n",
       "    .dataframe tbody tr th {\n",
       "        vertical-align: top;\n",
       "    }\n",
       "\n",
       "    .dataframe thead th {\n",
       "        text-align: right;\n",
       "    }\n",
       "</style>\n",
       "<table border=\"1\" class=\"dataframe\">\n",
       "  <thead>\n",
       "    <tr style=\"text-align: right;\">\n",
       "      <th></th>\n",
       "      <th>Date</th>\n",
       "      <th>state</th>\n",
       "      <th>LaborForce</th>\n",
       "      <th>UnemploymentRate</th>\n",
       "    </tr>\n",
       "  </thead>\n",
       "  <tbody>\n",
       "    <tr>\n",
       "      <th>0</th>\n",
       "      <td>2000-01-01</td>\n",
       "      <td>Alabama</td>\n",
       "      <td>2142945.0</td>\n",
       "      <td>4.7</td>\n",
       "    </tr>\n",
       "    <tr>\n",
       "      <th>1</th>\n",
       "      <td>2000-01-01</td>\n",
       "      <td>Alaska</td>\n",
       "      <td>319059.0</td>\n",
       "      <td>6.3</td>\n",
       "    </tr>\n",
       "    <tr>\n",
       "      <th>2</th>\n",
       "      <td>2000-01-01</td>\n",
       "      <td>Arizona</td>\n",
       "      <td>2499980.0</td>\n",
       "      <td>4.1</td>\n",
       "    </tr>\n",
       "    <tr>\n",
       "      <th>3</th>\n",
       "      <td>2000-01-01</td>\n",
       "      <td>Arkansas</td>\n",
       "      <td>1264619.0</td>\n",
       "      <td>4.4</td>\n",
       "    </tr>\n",
       "    <tr>\n",
       "      <th>4</th>\n",
       "      <td>2000-01-01</td>\n",
       "      <td>California</td>\n",
       "      <td>16680246.0</td>\n",
       "      <td>5.0</td>\n",
       "    </tr>\n",
       "  </tbody>\n",
       "</table>\n",
       "</div>"
      ],
      "text/plain": [
       "         Date       state  LaborForce  UnemploymentRate\n",
       "0  2000-01-01     Alabama   2142945.0               4.7\n",
       "1  2000-01-01      Alaska    319059.0               6.3\n",
       "2  2000-01-01     Arizona   2499980.0               4.1\n",
       "3  2000-01-01    Arkansas   1264619.0               4.4\n",
       "4  2000-01-01  California  16680246.0               5.0"
      ]
     },
     "execution_count": 15,
     "metadata": {},
     "output_type": "execute_result"
    }
   ],
   "source": [
    "state_unemp.head()"
   ]
  },
  {
   "cell_type": "code",
   "execution_count": 20,
   "metadata": {},
   "outputs": [
    {
     "data": {
      "text/plain": [
       "'https://raw.githubusercontent.com/python-visualization/folium/master/examples/data/us-states.json'"
      ]
     },
     "execution_count": 20,
     "metadata": {},
     "output_type": "execute_result"
    }
   ],
   "source": [
    "state_geo"
   ]
  },
  {
   "cell_type": "code",
   "execution_count": null,
   "metadata": {},
   "outputs": [],
   "source": []
  }
 ],
 "metadata": {
  "kernelspec": {
   "display_name": "Python 3",
   "language": "python",
   "name": "python3"
  },
  "language_info": {
   "codemirror_mode": {
    "name": "ipython",
    "version": 3
   },
   "file_extension": ".py",
   "mimetype": "text/x-python",
   "name": "python",
   "nbconvert_exporter": "python",
   "pygments_lexer": "ipython3",
   "version": "3.6.10"
  }
 },
 "nbformat": 4,
 "nbformat_minor": 4
}
